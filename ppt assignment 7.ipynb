{
 "cells": [
  {
   "cell_type": "markdown",
   "id": "430d2eeb-e845-4769-abc0-ec1d695f6b40",
   "metadata": {},
   "source": [
    "## PPT ASSIGNMENT 7th"
   ]
  },
  {
   "cell_type": "markdown",
   "id": "490299f7-20ff-44ba-a2ff-b855f86ab96c",
   "metadata": {},
   "source": [
    "## 1:ans:-"
   ]
  },
  {
   "cell_type": "code",
   "execution_count": 1,
   "id": "71dbf148-4746-42b6-9789-822a3bf5f5f4",
   "metadata": {},
   "outputs": [],
   "source": [
    "def isomorphic_strings(s, t):\n",
    "    if len(s) != len(t):  # If the lengths are different, they can't be isomorphic\n",
    "        return False\n",
    "\n",
    "    mapping = {}  # Dictionary to store character mappings\n",
    "\n",
    "    for i in range(len(s)):\n",
    "        char_s = s[i]\n",
    "        char_t = t[i]\n",
    "\n",
    "        if char_s in mapping:\n",
    "            if mapping[char_s] != char_t:  # Mapping already exists, but different character in t\n",
    "                return False\n",
    "        else:\n",
    "            if char_t in mapping.values():  # Character in t is already mapped to a different character in s\n",
    "                return False\n",
    "            mapping[char_s] = char_t\n",
    "\n",
    "    return True  # All conditions satisfied, strings are isomorphic\n"
   ]
  },
  {
   "cell_type": "code",
   "execution_count": 2,
   "id": "b4e4f958-eac0-4a4d-9c28-b2c5e6b8be30",
   "metadata": {},
   "outputs": [
    {
     "name": "stdout",
     "output_type": "stream",
     "text": [
      "True\n",
      "False\n",
      "True\n"
     ]
    }
   ],
   "source": [
    "s1 = \"egg\"\n",
    "t1 = \"add\"\n",
    "print(isomorphic_strings(s1, t1))  # Output: True\n",
    "\n",
    "s2 = \"foo\"\n",
    "t2 = \"bar\"\n",
    "print(isomorphic_strings(s2, t2))  # Output: False\n",
    "\n",
    "s3 = \"paper\"\n",
    "t3 = \"title\"\n",
    "print(isomorphic_strings(s3, t3))  # Output: True\n"
   ]
  },
  {
   "cell_type": "markdown",
   "id": "87b02f7a-83f4-4744-939f-f57d50ccd1c8",
   "metadata": {},
   "source": [
    "## 2:ans:-"
   ]
  },
  {
   "cell_type": "code",
   "execution_count": 3,
   "id": "000bc540-9f69-4922-aaf3-7749731830d2",
   "metadata": {},
   "outputs": [],
   "source": [
    "def is_strobogrammatic(num):\n",
    "    strob_pairs = {'0': '0', '1': '1', '6': '9', '8': '8', '9': '6'}\n",
    "    left, right = 0, len(num) - 1\n",
    "\n",
    "    while left <= right:\n",
    "        if num[left] not in strob_pairs or strob_pairs[num[left]] != num[right]:\n",
    "            return False\n",
    "        left += 1\n",
    "        right -= 1\n",
    "\n",
    "    return True\n"
   ]
  },
  {
   "cell_type": "code",
   "execution_count": 4,
   "id": "c245c4f4-d3e3-441d-8a24-31b25a2fef61",
   "metadata": {},
   "outputs": [
    {
     "name": "stdout",
     "output_type": "stream",
     "text": [
      "True\n",
      "True\n",
      "False\n"
     ]
    }
   ],
   "source": [
    "num = \"69\"\n",
    "result = is_strobogrammatic(num)\n",
    "print(result)  # Output: True\n",
    "\n",
    "num = \"818\"\n",
    "result = is_strobogrammatic(num)\n",
    "print(result)  # Output: True\n",
    "\n",
    "num = \"123\"\n",
    "result = is_strobogrammatic(num)\n",
    "print(result)  # Output: False\n"
   ]
  },
  {
   "cell_type": "markdown",
   "id": "eb79eae8-d613-4037-8ae6-4f23ee98a5db",
   "metadata": {},
   "source": [
    "## 3:ans:-"
   ]
  },
  {
   "cell_type": "code",
   "execution_count": 5,
   "id": "25098b4c-e941-4eac-8132-eaa7546b57d0",
   "metadata": {},
   "outputs": [],
   "source": [
    "def addStrings(num1, num2):\n",
    "    # Reverse the input strings to start from the least significant digit\n",
    "    num1 = num1[::-1]\n",
    "    num2 = num2[::-1]\n",
    "\n",
    "    # Make sure num1 is the longer string\n",
    "    if len(num1) < len(num2):\n",
    "        num1, num2 = num2, num1\n",
    "\n",
    "    result = []\n",
    "    carry = 0\n",
    "    i = 0\n",
    "\n",
    "    while i < len(num1) or carry:\n",
    "        # Get the digits at the current position or 0 if we've reached the end\n",
    "        digit1 = int(num1[i]) if i < len(num1) else 0\n",
    "        digit2 = int(num2[i]) if i < len(num2) else 0\n",
    "\n",
    "        # Calculate the sum and carry\n",
    "        current_sum = digit1 + digit2 + carry\n",
    "        carry = current_sum // 10\n",
    "        digit = current_sum % 10\n",
    "\n",
    "        # Add the current digit to the result\n",
    "        result.append(str(digit))\n",
    "\n",
    "        i += 1\n",
    "\n",
    "    # Reverse the result and return it as a string\n",
    "    return ''.join(result[::-1])\n"
   ]
  },
  {
   "cell_type": "code",
   "execution_count": 6,
   "id": "32de09ae-c5bd-43bd-9aab-2b789ed59fce",
   "metadata": {},
   "outputs": [
    {
     "name": "stdout",
     "output_type": "stream",
     "text": [
      "1111111110\n"
     ]
    }
   ],
   "source": [
    "num1 = \"123456789\"\n",
    "num2 = \"987654321\"\n",
    "sum_str = addStrings(num1, num2)\n",
    "print(sum_str) \n"
   ]
  },
  {
   "cell_type": "markdown",
   "id": "c4ec259e-a065-42be-a8d5-18c7c98ece56",
   "metadata": {},
   "source": [
    "## 4:ans:-"
   ]
  },
  {
   "cell_type": "code",
   "execution_count": 7,
   "id": "5df4d45d-ad44-479e-9177-f953d2841898",
   "metadata": {},
   "outputs": [],
   "source": [
    "def reverse_words(s):\n",
    "    words = s.split(' ')\n",
    "    reversed_words = [word[::-1] for word in words]\n",
    "    reversed_sentence = ' '.join(reversed_words)\n",
    "    return reversed_sentence\n"
   ]
  },
  {
   "cell_type": "code",
   "execution_count": 8,
   "id": "a5213229-c25f-4a1f-913d-6fb8062f78ac",
   "metadata": {},
   "outputs": [
    {
     "name": "stdout",
     "output_type": "stream",
     "text": [
      "olleH !dlrow I ma .TPGtahC\n"
     ]
    }
   ],
   "source": [
    "sentence = \"Hello world! I am ChatGPT.\"\n",
    "reversed_sentence = reverse_words(sentence)\n",
    "print(reversed_sentence)\n"
   ]
  },
  {
   "cell_type": "markdown",
   "id": "9a9d639a-fc5b-4d55-aa77-e38982e3d5bf",
   "metadata": {},
   "source": [
    "## 5:ans:-"
   ]
  },
  {
   "cell_type": "code",
   "execution_count": 9,
   "id": "48337d7b-7736-4e16-b854-cd00701ff978",
   "metadata": {},
   "outputs": [],
   "source": [
    "def reverse_string(s, k):\n",
    "    result = \"\"\n",
    "    i = 0\n",
    "\n",
    "    while i < len(s):\n",
    "        sub = s[i:i+2*k]\n",
    "        reversed_sub = sub[:k][::-1] + sub[k:]\n",
    "        result += reversed_sub\n",
    "        i += 2*k\n",
    "\n",
    "    return result\n"
   ]
  },
  {
   "cell_type": "code",
   "execution_count": 10,
   "id": "e84770da-ca23-4cbc-87df-ac64449b8571",
   "metadata": {},
   "outputs": [
    {
     "name": "stdout",
     "output_type": "stream",
     "text": [
      "bacdfeg\n"
     ]
    }
   ],
   "source": [
    "s = \"abcdefg\"\n",
    "k = 2\n",
    "print(reverse_string(s, k))  # Output: \"bacdfeg\"\n"
   ]
  },
  {
   "cell_type": "markdown",
   "id": "fb79bc73-8a3b-4774-801e-a1301a688af1",
   "metadata": {},
   "source": [
    "## 6:ans:-"
   ]
  },
  {
   "cell_type": "code",
   "execution_count": 11,
   "id": "0c53850d-b854-4d9a-b865-d570a1deacb1",
   "metadata": {},
   "outputs": [
    {
     "name": "stdout",
     "output_type": "stream",
     "text": [
      "True\n",
      "False\n"
     ]
    }
   ],
   "source": [
    "def can_shift(s, goal):\n",
    "    if len(s) != len(goal):\n",
    "        return False\n",
    "\n",
    "    return goal in (s + s)\n",
    "\n",
    "# Example usage\n",
    "s = \"abcde\"\n",
    "goal = \"bcdea\"\n",
    "print(can_shift(s, goal))  # Output: True\n",
    "\n",
    "s = \"abcde\"\n",
    "goal = \"edcba\"\n",
    "print(can_shift(s, goal))  # Output: False\n"
   ]
  },
  {
   "cell_type": "markdown",
   "id": "26dfedb8-4835-4065-ae25-0a62a97bf497",
   "metadata": {},
   "source": [
    "## 7:ans:-"
   ]
  },
  {
   "cell_type": "code",
   "execution_count": 12,
   "id": "015ba15d-5f6d-4fab-8b1a-7ce1912763a5",
   "metadata": {},
   "outputs": [],
   "source": [
    "def backspace_compare(s, t):\n",
    "    def process_string(string):\n",
    "        stack = []\n",
    "        for char in string:\n",
    "            if char != '#':\n",
    "                stack.append(char)\n",
    "            elif stack:\n",
    "                stack.pop()\n",
    "        return ''.join(stack)\n",
    "    \n",
    "    processed_s = process_string(s)\n",
    "    processed_t = process_string(t)\n",
    "    \n",
    "    return processed_s == processed_t\n"
   ]
  },
  {
   "cell_type": "code",
   "execution_count": 13,
   "id": "53b39383-af04-4b55-913e-fb59fe0762ea",
   "metadata": {},
   "outputs": [
    {
     "name": "stdout",
     "output_type": "stream",
     "text": [
      "True\n",
      "True\n",
      "True\n",
      "False\n"
     ]
    }
   ],
   "source": [
    "s = \"ab#c\"\n",
    "t = \"ad#c\"\n",
    "print(backspace_compare(s, t))  \n",
    "\n",
    "s = \"ab##\"\n",
    "t = \"c#d#\"\n",
    "print(backspace_compare(s, t))  \n",
    "\n",
    "s = \"a##c\"\n",
    "t = \"#a#c\"\n",
    "print(backspace_compare(s, t))  \n",
    "\n",
    "s = \"a#c\"\n",
    "t = \"b\"\n",
    "print(backspace_compare(s, t))  \n"
   ]
  },
  {
   "cell_type": "markdown",
   "id": "3149c10e-4922-4804-90c5-afa3c625158a",
   "metadata": {},
   "source": [
    "## 8:ans:-"
   ]
  },
  {
   "cell_type": "code",
   "execution_count": null,
   "id": "d78b79d6-130f-4ae3-88f2-f5c81c52f3aa",
   "metadata": {},
   "outputs": [],
   "source": []
  }
 ],
 "metadata": {
  "kernelspec": {
   "display_name": "Python 3 (ipykernel)",
   "language": "python",
   "name": "python3"
  },
  "language_info": {
   "codemirror_mode": {
    "name": "ipython",
    "version": 3
   },
   "file_extension": ".py",
   "mimetype": "text/x-python",
   "name": "python",
   "nbconvert_exporter": "python",
   "pygments_lexer": "ipython3",
   "version": "3.10.8"
  }
 },
 "nbformat": 4,
 "nbformat_minor": 5
}
